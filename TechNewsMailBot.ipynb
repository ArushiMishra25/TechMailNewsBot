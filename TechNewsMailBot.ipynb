{
 "cells": [
  {
   "cell_type": "code",
   "execution_count": null,
   "id": "5a58a6d9",
   "metadata": {},
   "outputs": [],
   "source": [
    "import smtplib\n",
    "from email.mime.text import MIMEText\n",
    "from email.mime.multipart import MIMEMultipart\n",
    "import requests\n",
    "from bs4 import BeautifulSoup\n",
    "import schedule\n",
    "import time\n",
    "\n",
    "def scrape_website(url):\n",
    "    response = requests.get(url)\n",
    "    if response.status_code == 200:\n",
    "        soup = BeautifulSoup(response.text, 'html.parser')\n",
    "        data = soup.find_all('p')\n",
    "        scraped_data = \"\\n\".join([p.get_text() for p in data])\n",
    "        return scraped_data\n",
    "    else:\n",
    "        return \"Failed to retrieve data from the website.\"\n",
    "\n",
    "def send_email(subject, body, to_email):\n",
    "    from_email = \"your email\"\n",
    "    password = \"App password of your email\"\n",
    "\n",
    "    msg = MIMEMultipart()\n",
    "    msg['From'] = from_email\n",
    "    msg['To'] = to_email\n",
    "    msg['Subject'] = subject\n",
    "    msg.attach(MIMEText(body, 'plain'))\n",
    "\n",
    "    try:\n",
    "        with smtplib.SMTP_SSL('smtp.gmail.com', 465) as server:\n",
    "            server.login(from_email, password)\n",
    "            server.sendmail(from_email, to_email, msg.as_string())\n",
    "            print(\"Email sent successfully.\")\n",
    "    except Exception as e:\n",
    "        print(f\"Failed to send email: {e}\")\n",
    "\n",
    "\n",
    "def task():\n",
    "    url = \"https://techcrunch.com/\"\n",
    "    to_email = \"sender's email\"  \n",
    "    scraped_data = scrape_website(url)\n",
    "    send_email(\"Tech Industry News\", scraped_data, to_email)\n",
    "\n",
    "\n",
    "schedule.every().day.at(\"10:00\").do(task)\n",
    "\n",
    "print(\"Email automation scheduled. Running...\")\n",
    "\n",
    "while True:\n",
    "    schedule.run_pending()\n",
    "    time.sleep(60)  \n"
   ]
  }
 ],
 "metadata": {
  "kernelspec": {
   "display_name": "Python 3 (ipykernel)",
   "language": "python",
   "name": "python3"
  },
  "language_info": {
   "codemirror_mode": {
    "name": "ipython",
    "version": 3
   },
   "file_extension": ".py",
   "mimetype": "text/x-python",
   "name": "python",
   "nbconvert_exporter": "python",
   "pygments_lexer": "ipython3",
   "version": "3.11.4"
  }
 },
 "nbformat": 4,
 "nbformat_minor": 5
}
